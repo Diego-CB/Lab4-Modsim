{
 "cells": [
  {
   "cell_type": "markdown",
   "metadata": {},
   "source": [
    "### Ejercicio 2\n",
    "Estime el precio de una opción call europea utilizando la fórmula de Black-Scholes a través de la simulación Monte Carlo.\n",
    "Para ello considere lo siguiente:\n",
    "\n",
    "1. Implemente la fórmula de Black-Scholes para calcular el precio teórico de la opción.\n",
    "2. Simule las trayectorias del precio de las acciones mediante el movimiento browniano geométrico.\n",
    "3. Calcule el pago de cada camino y promedielos para estimar el precio de la opción."
   ]
  },
  {
   "cell_type": "code",
   "execution_count": null,
   "metadata": {},
   "outputs": [],
   "source": [
    "import math\n",
    "from scipy.stats import norm\n",
    "\n",
    "def black_scholes_call(S, X, r, T, sigma):\n",
    "    d1 = (math.log(S / X) + (r + 0.5 * sigma**2) * T) / (sigma * math.sqrt(T))\n",
    "    d2 = d1 - sigma * math.sqrt(T)\n",
    "    N_d1 = norm.cdf(d1)\n",
    "    N_d2 = norm.cdf(d2)\n",
    "    call_price = S * N_d1 - X * math.exp(-r * T) * N_d2\n",
    "    return call_price\n",
    "\n",
    "# Parámetros de la opción y el activo subyacente\n",
    "S = 100   # Precio actual del activo subyacente\n",
    "X = 100   # Precio de ejercicio de la opción\n",
    "r = 0.05  # Tasa libre de riesgo\n",
    "T = 1     # Tiempo hasta la expiración en años\n",
    "sigma = 0.2  # Volatilidad implícita\n",
    "\n",
    "call_price = black_scholes_call(S, X, r, T, sigma)\n",
    "print(\"El precio teórico de la opción call es:\", call_price)\n"
   ]
  },
  {
   "cell_type": "code",
   "execution_count": 3,
   "metadata": {},
   "outputs": [
    {
     "name": "stdout",
     "output_type": "stream",
     "text": [
      "Precio teorico: 10.450583572185565\n",
      "Precio de la opción (Monte Carlo): 10.446227962583379\n"
     ]
    }
   ],
   "source": [
    "import numpy as np\n",
    "\n",
    "def monte_carlo_option_price(S, X, r, T, sigma, num_simulations):\n",
    "    total_payoff = 0\n",
    "    \n",
    "    for _ in range(num_simulations):\n",
    "        # Simulate stock price using geometric Brownian motion\n",
    "        simulated_price = S * np.exp((r - 0.5 * sigma**2) * T + sigma * np.sqrt(T) * np.random.normal())\n",
    "        \n",
    "        # Calculate option payoff at expiration\n",
    "        payoff = max(0, simulated_price - X)\n",
    "        \n",
    "        total_payoff += payoff\n",
    "    \n",
    "    option_price = np.exp(-r * T) * (total_payoff / num_simulations)\n",
    "    return option_price\n",
    "\n",
    "# Parametros\n",
    "S = 100\n",
    "X = 100\n",
    "r = 0.05\n",
    "T = 1.0\n",
    "sigma = 0.2\n",
    "\n",
    "# Usando la fórmula de Black-Scholes\n",
    "bs_price = black_scholes_call(S, X, r, T, sigma)\n",
    "print(\"Precio teorico:\", bs_price)\n",
    "\n",
    "# Usando la simulación Monte Carlo\n",
    "num_simulations = 100000\n",
    "mc_price = monte_carlo_option_price(S, X, r, T, sigma, num_simulations)\n",
    "print(\"Precio de la opción (Monte Carlo):\", mc_price)\n"
   ]
  }
 ],
 "metadata": {
  "kernelspec": {
   "display_name": "venv",
   "language": "python",
   "name": "python3"
  },
  "language_info": {
   "codemirror_mode": {
    "name": "ipython",
    "version": 3
   },
   "file_extension": ".py",
   "mimetype": "text/x-python",
   "name": "python",
   "nbconvert_exporter": "python",
   "pygments_lexer": "ipython3",
   "version": "3.11.4"
  },
  "orig_nbformat": 4
 },
 "nbformat": 4,
 "nbformat_minor": 2
}
