{
 "cells": [
  {
   "cell_type": "markdown",
   "metadata": {},
   "source": [
    "### Ejercicio 3\n",
    "Estime la probabilidad y el impacto de una brecha de seguridad cibernética utilizando la simulación de Monte Carlo. Para ello considere lo siguiente:\n",
    "1. Defina las probabilidades de varios eventos de ataques cibernéticos (por ejemplo, phishing, malware).\n",
    "2. Asigne valores de impacto potencial a cada evento (p. ej., pérdida de datos, impacto financiero).\n",
    "3. Implemente una simulación de Monte Carlo para estimar el nivel de riesgo general.\n",
    "4. Analice el impacto de diferentes probabilidades de ataques cibernéticos en el riesgo general.\n"
   ]
  },
  {
   "cell_type": "code",
   "execution_count": 7,
   "metadata": {},
   "outputs": [
    {
     "name": "stdout",
     "output_type": "stream",
     "text": [
      "El riesgo general estimado es: 24286.0\n",
      "El impacto promedio de phishing es: 19870.0\n",
      "El impacto promedio de malware es: 4416.0\n"
     ]
    }
   ],
   "source": [
    "import random\n",
    "\n",
    "def monteCarloSimulacion(numSimulaciones, probabilidadEvento, impactoEvento):\n",
    "    resultados = []\n",
    "    for _ in range(numSimulaciones):\n",
    "        eventoOcurrido = random.random() < probabilidadEvento\n",
    "        if eventoOcurrido:\n",
    "            impacto = random.choice(impactoEvento)\n",
    "            resultados.append(impacto)\n",
    "        else:\n",
    "            resultados.append(0)\n",
    "    return resultados\n",
    "\n",
    "# Configuración de probabilidades e impactos\n",
    "probabilidadPhishing = 0.2\n",
    "probabilidadMalware = 0.15\n",
    "impactoPhishing = [50000, 100000, 150000]  # Ejemplos de impacto financiero\n",
    "impactoMalware = [20000, 30000, 40000]      # Ejemplos de impacto financiero\n",
    "\n",
    "numSimulaciones = 10000\n",
    "\n",
    "resultadosPhishing = monteCarloSimulacion(numSimulaciones, probabilidadPhishing, impactoPhishing)\n",
    "resultadosMalware = monteCarloSimulacion(numSimulaciones, probabilidadMalware, impactoMalware)\n",
    "\n",
    "# Calcular riesgo general promedio\n",
    "riesgoGeneral = sum(resultadosPhishing + resultadosMalware) / numSimulaciones\n",
    "\n",
    "print(f\"El riesgo general estimado es: {riesgoGeneral}\")\n",
    "\n",
    "impactoPhishing = sum(resultadosPhishing) / numSimulaciones\n",
    "impactoMalware = sum(resultadosMalware) / numSimulaciones\n",
    "\n",
    "print(f\"El impacto promedio de phishing es: {impactoPhishing}\")\n",
    "print(f\"El impacto promedio de malware es: {impactoMalware}\")\n"
   ]
  },
  {
   "cell_type": "markdown",
   "metadata": {},
   "source": [
    "### Conclusiones\n",
    "- El impacto promedio del phishing es mayor, al ser un ataque más directo y con un objetivo claro.\n",
    "- El impacto promedio del malware es menor, al ser un ataque más indirecto y con un objetivo menos claro.\n",
    "- En general, el impacto promedio del phishing es de 20,000 USD, mientras que el impacto promedio del malware es de 4,500 USD."
   ]
  }
 ],
 "metadata": {
  "kernelspec": {
   "display_name": "base",
   "language": "python",
   "name": "python3"
  },
  "language_info": {
   "codemirror_mode": {
    "name": "ipython",
    "version": 3
   },
   "file_extension": ".py",
   "mimetype": "text/x-python",
   "name": "python",
   "nbconvert_exporter": "python",
   "pygments_lexer": "ipython3",
   "version": "3.10.10"
  },
  "orig_nbformat": 4
 },
 "nbformat": 4,
 "nbformat_minor": 2
}
