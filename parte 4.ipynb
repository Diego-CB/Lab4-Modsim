{
 "cells": [
  {
   "cell_type": "markdown",
   "metadata": {},
   "source": [
    "### Ejercicio 4\n",
    "Considere un campo de su interés y defina un problema donde se pueda resolver usando Monte Carlo. Para ello considere decir lo siguiente\n",
    "1. Defina correctamente el problema, dejando claro las suposiciones y datos\n",
    "2. Defina como Monte Carlo puede ayudarle a solucionar dicho problema\n",
    "3. Escriba un script en su lenguaje de programación favorito solucionando el problema\n",
    "4. Analice correctamente los resultados, extrayendo cualquier insight que considere valioso\n",
    "\n",
    "### Definición del problema\n",
    "Estimación del consumo de combustible de un vehiculo en función de tres factores:\n",
    "- Velocidad de viaje\n",
    "- Cantidad de tráfico\n",
    "- Cilindraje del motor\n",
    "\n",
    "Se trabaja bajo las siguientes suposiciones:\n",
    "- El vehiculo se encuentra en buenas condiciones\n",
    "- El vehiculo se encuentra en un terreno plano y en una carretera en buen estado\n",
    "\n",
    "### Cómo Monte Carlo puede ayudar\n",
    "Monte Carlo se puede utilizar para simular diferentes escenarios de manejo y estimar el consumo promedio de combustible. Generaremos valores aleatorios para la velocidad y las condiciones de tráfico, y usaremos una fórmula para calcular el consumo en cada escenario. Luego, podemos promediar estos resultados para obtener una estimación general."
   ]
  },
  {
   "cell_type": "code",
   "execution_count": 46,
   "metadata": {},
   "outputs": [
    {
     "name": "stdout",
     "output_type": "stream",
     "text": [
      "Consumo estimado de combustible: 15.58 litros/100km\n",
      "Consumo estimado de combustible: 24.26 kilometros/galon\n"
     ]
    }
   ],
   "source": [
    "import random\n",
    "\n",
    "def estimarConsumoCombustible(numSimulaciones, cilindraje):\n",
    "    consumoTotal = 0\n",
    "    \n",
    "    for _ in range(numSimulaciones):\n",
    "        velocidad = random.uniform(40, 100)  # Velocidad en km/h\n",
    "        trafico = random.uniform(0.5, 1.5)    # Factor de tráfico\n",
    "        consumo = ((cilindraje / 1000) * 0.01) # Consumo en idle\n",
    "        consumo = consumo + (cilindraje / 1000) * 0.04 + (velocidad / 120) * trafico * 0.01  # Consumo en movimiento\n",
    "        consumoTotal += consumo\n",
    "    \n",
    "    consumoPromedio = consumoTotal / numSimulaciones\n",
    "    return consumoPromedio\n",
    "\n",
    "numSimulaciones = 10000\n",
    "cilindrajeMotor = 1600\n",
    "consumoEstimado = estimarConsumoCombustible(numSimulaciones, cilindrajeMotor)\n",
    "\n",
    "print(f\"Consumo estimado de combustible: {consumoEstimado * 100:.2f} litros/100km\")\n",
    "print(f\"Consumo estimado de combustible: {378 / (consumoEstimado * 100):.2f} kilometros/galon\")\n"
   ]
  },
  {
   "cell_type": "markdown",
   "metadata": {},
   "source": [
    "### Conclusiones\n",
    "- El consumo de combustible aumenta a medida que aumenta la velocidad\n",
    "- El consumo de combustible es mayor en condiciones de tráfico pesado que en condiciones de tráfico ligero\n",
    "- El consumo de combustible aumenta a medida que aumenta el cilindraje del motor"
   ]
  }
 ],
 "metadata": {
  "kernelspec": {
   "display_name": "base",
   "language": "python",
   "name": "python3"
  },
  "language_info": {
   "codemirror_mode": {
    "name": "ipython",
    "version": 3
   },
   "file_extension": ".py",
   "mimetype": "text/x-python",
   "name": "python",
   "nbconvert_exporter": "python",
   "pygments_lexer": "ipython3",
   "version": "3.10.10"
  },
  "orig_nbformat": 4
 },
 "nbformat": 4,
 "nbformat_minor": 2
}
